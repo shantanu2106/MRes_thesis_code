{
 "cells": [
  {
   "cell_type": "markdown",
   "id": "019c9961",
   "metadata": {},
   "source": [
    "The filtering is done is post-hoc after collecting the data. \n",
    "The <ceo_artilces_preprocessed.csv> file from the previous code is used for the analysis. "
   ]
  },
  {
   "cell_type": "code",
   "execution_count": null,
   "id": "0c43bace",
   "metadata": {},
   "outputs": [],
   "source": [
    "df = pd.read_csv('/Users/shantanusharma/Downloads/ceo_articles_preprocessed.csv') #ceo_articles_extracted\n",
    "\n",
    "source_list = ['Forbes', 'Financial Times (London, England)', 'thetimes.co.uk', 'The New York Times', 'The New York Times - International Edition', 'The Independent (United Kingdom)', 'Daily News (New York)', \n",
    "        'The Daily Telegraph (London, England)', 'The Guardian (London)', 'mirror.co.uk', 'CFO.com', 'USA Today', 'Guardian.com']\n",
    "\n",
    "df_filtered = df[df['Source'].isin(source_list)]\n",
    "leader_list = df_filtered['CEO_Name'].unique().tolist()\n",
    "\n",
    "print(df_filtered.columns)"
   ]
  },
  {
   "cell_type": "code",
   "execution_count": null,
   "id": "06e6ce6d",
   "metadata": {},
   "outputs": [],
   "source": [
    "article_per_person = df_filtered.groupby('CEO_Name').size()\n",
    "\n",
    "print(\"Total Articles per Person:\")\n",
    "print(article_per_person)\n",
    "print(\"-\" * 30)\n",
    "\n",
    "# Total number of articles across all people\n",
    "total_articles = article_per_person.sum()\n",
    "\n",
    "# Mean number of articles per person\n",
    "mean_articles = article_per_person.mean()\n",
    "\n",
    "# Median number of articles per person\n",
    "median_articles = article_per_person.median()\n",
    "\n",
    "# Coefficient of Variation (Standard Deviation / Mean)\n",
    "# This measures the relative variability. A higher value means more dispersion.\n",
    "std_dev = article_per_person.std()\n",
    "# Avoid division by zero if mean is 0\n",
    "coefficient_of_variation = (std_dev / mean_articles) * 100 if mean_articles != 0 else 0\n",
    "\n",
    "\n",
    "# 4. Display the results\n",
    "# This will print the final calculated statistics.\n",
    "print(\"Descriptive Statistics for Article Counts:\")\n",
    "print(f\"Total Articles: {total_articles}\")\n",
    "print(f\"Mean: {mean_articles:.2f}\")\n",
    "print(f\"Median: {median_articles:.2f}\")\n",
    "print(f\"Coefficient of Variation: {coefficient_of_variation:.2f}%\")"
   ]
  },
  {
   "cell_type": "markdown",
   "id": "236743a9",
   "metadata": {},
   "source": [
    "Obtain Descriptive Statistics"
   ]
  },
  {
   "cell_type": "code",
   "execution_count": null,
   "id": "19d7b061",
   "metadata": {},
   "outputs": [],
   "source": [
    "# Descriptive statistics of article count\n",
    "article_count = len(df_filtered)\n",
    "print(f\"Total number of articles in filtered dataframe: {article_count}\\n\")\n",
    "\n",
    "# Articles per source (filtered)\n",
    "articles_per_source = df_filtered['Source'].value_counts()\n",
    "print(\"Number of articles per source (filtered):\")\n",
    "print(articles_per_source)\n",
    "print(\"\\n\")\n",
    "\n",
    "# Articles per year (filtered)\n",
    "articles_per_year = df_filtered['Year'].value_counts().sort_index()\n",
    "print(\"Number of articles per year (filtered):\")\n",
    "print(articles_per_year)\n",
    "print(\"\\n\")\n",
    "\n",
    "# Calculate mean and related statistics for articles per year\n",
    "mean_articles_per_year = articles_per_year.mean()\n",
    "median_articles_per_year = articles_per_year.median()\n",
    "std_articles_per_year = articles_per_year.std()\n",
    "\n",
    "print(\"Statistics for articles per year:\")\n",
    "print(f\"Mean: {mean_articles_per_year:.2f}\")\n",
    "print(f\"Median: {median_articles_per_year:.2f}\")\n",
    "print(f\"Standard Deviation: {std_articles_per_year:.2f}\")\n",
    "print(\"\\n\")\n",
    "\n",
    "# Visual graph of articles per source\n",
    "ax = articles_per_source.plot(kind='bar', figsize=(12, 6))\n",
    "plt.title('Number of Articles per Source (Filtered)')\n",
    "plt.xlabel('Source')\n",
    "plt.ylabel('Number of Articles')\n",
    "plt.xticks(rotation=45, ha='right')\n",
    "plt.tight_layout()\n",
    "\n",
    "# Add the value on top of each bar\n",
    "for p in ax.patches:\n",
    "    ax.annotate(str(int(p.get_height())), (p.get_x() * 1.005, p.get_height() * 1.005))\n",
    "\n",
    "plt.show()\n",
    "\n",
    "# Visual graph of articles per year\n",
    "ax = articles_per_year.plot(kind='bar', figsize=(10, 5))\n",
    "plt.title('Number of Articles per Year (Filtered)')\n",
    "plt.xlabel('Year')\n",
    "plt.ylabel('Number of Articles')\n",
    "plt.xticks(rotation=45, ha='right')\n",
    "plt.tight_layout()\n",
    "\n",
    "# Add the value on top of each bar\n",
    "for p in ax.patches:\n",
    "    ax.annotate(str(int(p.get_height())), (p.get_x() * 1.005, p.get_height() * 1.005))\n",
    "\n",
    "plt.show()"
   ]
  }
 ],
 "metadata": {
  "language_info": {
   "name": "python"
  }
 },
 "nbformat": 4,
 "nbformat_minor": 5
}
