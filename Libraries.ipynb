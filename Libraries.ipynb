{
 "cells": [
  {
   "cell_type": "code",
   "execution_count": null,
   "id": "3eb30c53",
   "metadata": {},
   "outputs": [],
   "source": [
    "import os\n",
    "import zipfile\n",
    "from pathlib import Path\n",
    "import shutil\n",
    "import spacy\n",
    "import re\n",
    "from typing import List, Dict, Tuple, Set\n",
    "from nltk.corpus import stopwords \n",
    "import matplotlib.pyplot as plt\n",
    "from gensim.corpora import Dictionary\n",
    "from gensim.models.coherencemodel import CoherenceModel\n",
    "import numpy as np\n",
    "import pandas as pd\n",
    "import string\n",
    "import spacy\n",
    "import string\n",
    "from gensim.models import LdaModel, TfidfModel, LsiModel\n",
    "from collections import Counter\n",
    "from sklearn.decomposition import NMF"
   ]
  }
 ],
 "metadata": {
  "language_info": {
   "name": "python"
  }
 },
 "nbformat": 4,
 "nbformat_minor": 5
}
