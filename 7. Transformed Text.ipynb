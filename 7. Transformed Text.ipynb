{
 "cells": [
  {
   "cell_type": "code",
   "execution_count": null,
   "id": "4dcd849f",
   "metadata": {},
   "outputs": [],
   "source": [
    "df_filtered['extracted_text_unicode'] = df_filtered['Extracted_Text'].apply(lambda x: u\"{}\".format(x) if isinstance(x, str) else x)\n",
    "print(df_filtered['extracted_text_unicode'].head())\n",
    "print(len(df_filtered['extracted_text_unicode']))\n",
    "print(df_filtered['CEO_Name'].unique())\n",
    "print(df_filtered.columns)"
   ]
  },
  {
   "cell_type": "code",
   "execution_count": null,
   "id": "6176b394",
   "metadata": {},
   "outputs": [],
   "source": [
    "extracted_text = []\n",
    "for source in source_list:\n",
    "    temp = df[df['Source'] == source]  # Remove unnecessary .format()\n",
    "    extracted_text.append(temp['Extracted_Text'].tolist())\n",
    "\n",
    "# Flatten the extracted_text list to get all articles in one list\n",
    "extracted_text = [article for sublist in extracted_text for article in sublist]\n",
    "\n",
    "# Don't redefine ceo_name since it's already defined\n",
    "\n",
    "print(f\"Total articles extracted: {len(extracted_text)}\")\n",
    "# print(f\"First 5 articles preview:\")\n",
    "# for i, article in enumerate(extracted_text[:5]):\n",
    "#     print(f\"Article {i+1}: {article[:200]}...\")  # Show first 200 characters\n",
    "\n",
    "extracted_text_unicode = []\n",
    "\n",
    "for text in extracted_text:\n",
    "    unicode = u\"{}\".format(text)\n",
    "    extracted_text_unicode.append(unicode)\n",
    "print(extracted_text_unicode[:5])  # Show first 5 unicode articles\n",
    "\n",
    "ceo_name = df['CEO_Name'].unique().tolist()"
   ]
  }
 ],
 "metadata": {
  "language_info": {
   "name": "python"
  }
 },
 "nbformat": 4,
 "nbformat_minor": 5
}
