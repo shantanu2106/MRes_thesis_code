{
 "cells": [
  {
   "cell_type": "markdown",
   "id": "c09c0900",
   "metadata": {},
   "source": [
    "Stopword List"
   ]
  },
  {
   "cell_type": "code",
   "execution_count": null,
   "id": "bcb85f7a",
   "metadata": {},
   "outputs": [],
   "source": [
    "custom_stopwords = {\n",
    "    # Very high frequency, low descriptive value verbs\n",
    "    \"say\", \"tell\", \"make\", \"get\", \"go\", \"take\", \"come\", \"see\", \"know\", \"think\",\n",
    "    \"want\", \"use\", \"find\", \"give\", \"ask\", \"call\", \"try\", \"look\", \"seem\", \"believe\",\n",
    "    \"start\", \"set\", \"put\", \"add\", \"move\", \"include\", \"offer\", \"present\", \"return\",\n",
    "    \"leave\", \"remain\", \"join\", \"attend\", \"work\", \"write\", \"become\", \"appear\",\n",
    "    \"respond\", \"decide\", \"hold\", \"raise\", \"pick\", \"replace\", \"buy\", \"describe\",\n",
    "    \"post\", \"joke\", \"echo\", \"watch\", \"film\", \n",
    "    \"serve\", \"push\", \"embrace\", \"argue\", \"seek\", \"bring\", \"succeed\", \"donate\",\n",
    "    # ---------------\n",
    "    \"bother\", \"build\", \"oust\", \"recall\", \"spend\", \"decline\", \"reveal\", \"draw\",\n",
    "    \"name\", \"reassure\", \"testify\", \"create\", \"oversee\", \"walk\", \"invest\",\n",
    "    \"also\", \"still\", \"later\", \"back\", \"early\", \"often\", \"far\", \"shortly\", \"ago\",\n",
    "    \"recently\", \"long\", \"old\", \"continue\", \"consider\", \"found\", \"stand\", \"reach\", \"step\", \"grow\", \"drop\",\n",
    "    \"retain\", \"begin\", \"reply\", \"keep\", \"hope\", \"sell\", \"meet\",\n",
    "    \"issue\", \"point\", \"read\", \"address\", \"agree\", \"send\", \"receive\", \"talk\",\n",
    "    \"need\", \"feel\", \"expect\", \"pull\", \"speak\", \"turn\", \"show\", \"like\", \"involve\",\n",
    "    \"lead\", \"suggest\", \"sit\", \"hand\", \"discuss\", \"promise\", \"bear\", \"thank\",\n",
    "    \"welcome\", \"develop\", \"follow\", \"indicate\", \"run\", \"note\", \"pay\", \"play\",\n",
    "    #------------------\n",
    "    \"claim\", \"lose\", \"mention\", \"already\", \"reportedly\", \"however\", \"previously\", \"first\", \n",
    "    \"continue\", \"consider\", \"found\", \"stand\", \"reach\", \"grow\", \"drop\", \"retain\",\n",
    "    \"begin\", \"reply\", \"keep\", \"hope\", \"sell\", \"meet\", \"issue\",\n",
    "    \"point\", \"read\", \"address\", \"agree\", \"send\", \"receive\", \"talk\", \"need\",\n",
    "    \"feel\", \"expect\", \"pull\", \"turn\", \"show\", \"like\", \"involve\", \"sit\", \"hand\",\n",
    "    \"discuss\", \"promise\", \"bear\", \"thank\", \"welcome\", \"develop\", \"follow\",\n",
    "    \"indicate\", \"run\", \"note\", \"pay\", \"play\", \"claim\", \"lose\", \"mention\",\n",
    "    # ------------------------\n",
    "    \"visit\", \"lay\",\"ahead\", \"ultimately\", \"well\", \"publicly\", \"however\", \"even\", \"next\",\n",
    "    \"effectively\", \"quickly\", \"instead\", \"away\", \"ever\", \"really\", \"immediately\",\n",
    "    \"person\", \"company\", \"man\", \"son\", \"zuckerberg\", \"khosla\", \"figure\", \"public\", \"sundar\", \"arnault\", \"live\", \"answer\", \n",
    "    \"compare\", \"introduce\", \"refer\", \"hit\", \"sign\", \"hint\", \"enter\", \"end\", \"change\", \"stay\", \"report\", \n",
    "    \"well\", \"publicly\", \"eventually\", \"simply\", \"yet\", \"privately\", \"quickly\", \"instead\", \"immediately\",\n",
    "    \"chief\", \"manager\", \"deputy\", \"boss\", \"director\"\n",
    "    \"company\", \"page\", \"zuckerberg\", \"co\", \"urge\", \"marry\", \"remove\", \"november\",\"earn\",\"learn\",\"satyanadella\", \"altman\", \"consultant\", \"easily\", \"eat\", \"brockman\", \"file\", \"cite\", \"easily\", \"target\", \n",
    "    \"team\", \"unveil\",\"feature\",\"eld\", \"count\", \"largely\", \"briefly\",\"rank\",\"cook\",\"photograph\",\n",
    "    #---------------------------\n",
    "    \"face\",\"part\", \"always\", \"directly\", \"chair\", \"stop\" , \"officer\", \"wear\" ,\"onstage\", \"opt\", \"indeed\",\"meanwhile\",\"break\",\"interview\",\"email\",\"tweet\",\"die\",\"hail\"\n",
    "    \"officer\", \"executive\" ,\"chairman\",\"ceo\", \"president\", \"investor\", \"founder\", \"mcuban\"\n",
    "    \"fly\",\"initially\",\"aside\",\"press\",\"center\",\"tap\",\"student\",\"finally\",\"schedule\",\"home\",\"owner\",\"formally\",\"invite\",\"credit\",\"arrive\",\"explain\",\"choose\", \"though\",\"prepare\",\"close\"\n",
    "    \"elonmusk\", \"currently\",\"provide\",\"hire\",\"inform\",\"drive\",\"publish\",\"pepper\",\"quit\", \"nadella\",\"share\",\"manage\",\"scion\", \"graduate\",\"order\",\"tie\",\"brush\",\n",
    "    \"prefer\",\"maybe\",\"fail\",\"paint\",\"require\", \"estimate\",\"together\", \"tout\", \"purchase\", \"closely\", \"since\", \"quote\", \"bachachan\", \n",
    "     \"clearly\",\"hail\",\"state\",\"sama\", \"actually\", \"texte\", \"host\", \"may\",\"product\", \"deal\", \"express\",\"emerge\", \"investments\",\n",
    "     #---------------------------\n",
    "    \"allude\", \"strike\", \"grant\", \"throw\", \"love\", \"hear\", \"act\", \"apply\", \"regard\", \"maintain\", \"spot\", \"repeat\", \"court\", \"race\", \n",
    "    \"gather\", \"cause\", \"open\", \"wait\", \"rely\", \"rise\", \"catch\", \"delay\", \"round\", \"approach\", \"contact\", \"float\", \"spin\", \n",
    "    \"much\", \"regularly\", \"enough\", \"reckon\", \"afterward\", \"company\", \"designer\", \n",
    "    \"gates\", \"bezos\", \"zuckerberg\", \"page\", \"musk\", \"dorsey\", \"khosla\", \"pichai\",\"alphabet\",\"april\",\"zaslav\",\"fink\",\"link\", \"february\",\n",
    "    #--------------------------\n",
    "    \"company\", \"native\", \"parent\", \"designer\", \"gates\", \"bezos\", \"zuckerberg\",\"page\", \"musk\", \"dorsey\", \"khosla\", \"timcook\",\n",
    "     \"hear\",\"prove\", \"complain\", \"regard\", \"maintain\", \"spot\", \"repeat\", \"court\", \"race\",\n",
    "    \"gather\", \"cause\", \"open\", \"wait\", \"rely\", \"contact\", \"float\", \"invoke\", \"shift\", \"spin\", \"pass\",\n",
    "    \"throng\", \"act\", \"mean\", \"cook\", \"live\" \n",
    "}\n",
    "print(len(custom_stopwords))\n",
    "\n",
    "nltk_stopwords = set(stopwords.words('english'))\n",
    "full_stopwords = set(string.punctuation).union(nltk_stopwords)\n",
    "full_stopwords = full_stopwords.union(custom_stopwords)\n",
    "print(len(full_stopwords))"
   ]
  }
 ],
 "metadata": {
  "language_info": {
   "name": "python"
  }
 },
 "nbformat": 4,
 "nbformat_minor": 5
}
