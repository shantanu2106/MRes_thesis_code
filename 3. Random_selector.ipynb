{
 "cells": [
  {
   "cell_type": "markdown",
   "id": "483880e9",
   "metadata": {},
   "source": [
    "From the analysis above the collection of documents from the Nexis Uni was skewed. To mitigate this issue, only the 70th Percentile articles - 203 articles was used\n",
    "The article is run interatively with same random seed to ensure reproduceability"
   ]
  },
  {
   "cell_type": "code",
   "execution_count": null,
   "id": "48af9336",
   "metadata": {},
   "outputs": [],
   "source": [
    "import random\n",
    "\n",
    "# Set random seed for reproducibility\n",
    "random.seed(21)\n",
    "threshold = 203\n",
    "total_article_count = 14883\n",
    "# Variables to modify\n",
    "\n",
    "total_articles = 608 # Update this number for the articles you want to select\n",
    "\n",
    "\n",
    "calculated_articles = round((total_articles/total_article_count)*threshold,0)\n",
    "num_random_numbers = int(calculated_articles)\n",
    "\n",
    "# Generate random numbers within the range of articles\n",
    "# Article numbers from 1 to total_articles\n",
    "random_article_numbers = random.sample(range(1, total_articles + 1), num_random_numbers)\n",
    "\n",
    "# Sort the numbers for easier reading\n",
    "random_article_numbers.sort()\n",
    "\n",
    "print(\"Random Article Selection\")\n",
    "print(\"=\" * 25)\n",
    "print(\"Total articles:\", total_articles)\n",
    "print(\"Numbers requested:\", num_random_numbers)\n",
    "print(\"Random seed:\", 21)\n",
    "print()\n",
    "print(\"Selected article numbers:\", random_article_numbers)"
   ]
  }
 ],
 "metadata": {
  "language_info": {
   "name": "python"
  }
 },
 "nbformat": 4,
 "nbformat_minor": 5
}
